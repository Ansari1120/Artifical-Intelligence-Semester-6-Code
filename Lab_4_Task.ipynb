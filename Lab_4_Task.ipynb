{
 "cells": [
  {
   "cell_type": "markdown",
   "metadata": {
    "id": "j8w-B2luEz1X"
   },
   "source": [
    "**Collections in python**"
   ]
  },
  {
   "cell_type": "markdown",
   "metadata": {
    "id": "X1owWt93PkoW"
   },
   "source": [
    "sum all the items in a list"
   ]
  },
  {
   "cell_type": "code",
   "execution_count": 1,
   "metadata": {
    "colab": {
     "base_uri": "https://localhost:8080/"
    },
    "id": "2C5LWzjQE6td",
    "outputId": "bcde2b38-f972-43f9-ca7f-cc22b8191c78"
   },
   "outputs": [
    {
     "name": "stdout",
     "output_type": "stream",
     "text": [
      "26\n"
     ]
    },
    {
     "data": {
      "text/plain": [
       "list"
      ]
     },
     "execution_count": 1,
     "metadata": {},
     "output_type": "execute_result"
    }
   ],
   "source": [
    "item=[1,7,-10,34,2,-8]\n",
    "sum = 0\n",
    "for i in item:\n",
    "\tsum+= i\n",
    "print(sum)\n",
    "type(item)"
   ]
  },
  {
   "cell_type": "markdown",
   "metadata": {
    "id": "0E7gHOMXP383"
   },
   "source": [
    "get the largest number from a list\n"
   ]
  },
  {
   "cell_type": "code",
   "execution_count": 2,
   "metadata": {
    "colab": {
     "base_uri": "https://localhost:8080/"
    },
    "id": "M4OhB1_tP5qX",
    "outputId": "0d3cc2d1-aeae-41a2-f50d-89494bfc57d3"
   },
   "outputs": [
    {
     "name": "stdout",
     "output_type": "stream",
     "text": [
      "Largest Number : 10\n"
     ]
    }
   ],
   "source": [
    "a=[1,7,10,3,2,8]\n",
    "\n",
    "max = 0\n",
    "for i in a:\n",
    "\tif i > max:\n",
    "\t\tmax = i\n",
    "print(\"Largest Number :\",max)\n",
    " "
   ]
  },
  {
   "cell_type": "markdown",
   "metadata": {
    "id": "U8fpslVDQfxF"
   },
   "source": [
    "remove duplicates from a list"
   ]
  },
  {
   "cell_type": "code",
   "execution_count": 3,
   "metadata": {
    "colab": {
     "base_uri": "https://localhost:8080/"
    },
    "id": "dqWbbCTmQ1Ol",
    "outputId": "4745244b-c08d-4e2f-f143-ed7d27bddc65"
   },
   "outputs": [
    {
     "name": "stdout",
     "output_type": "stream",
     "text": [
      "[1, 2, 3, 7, 5, 6, 4, 8]\n"
     ]
    }
   ],
   "source": [
    "a = [1,2,3,7,2,1,5,6,4,8,5,4]\n",
    " \n",
    "dup = []\n",
    "\n",
    "for x in a:\n",
    "    if x not in dup:\n",
    "       \n",
    "        dup.append(x)\n",
    "print(dup)"
   ]
  },
  {
   "cell_type": "markdown",
   "metadata": {
    "id": "ze6KzzmSRnTN"
   },
   "source": [
    "**Tuple**"
   ]
  },
  {
   "cell_type": "markdown",
   "metadata": {
    "id": "vYx1InT2U9a0"
   },
   "source": [
    "Copy specific elements from one tuple to a new tuple"
   ]
  },
  {
   "cell_type": "code",
   "execution_count": 4,
   "metadata": {
    "colab": {
     "base_uri": "https://localhost:8080/"
    },
    "id": "E_8iyGipR74i",
    "outputId": "233993e9-376c-4354-c2c6-a971539a303c"
   },
   "outputs": [
    {
     "name": "stdout",
     "output_type": "stream",
     "text": [
      "(44, 55)\n"
     ]
    },
    {
     "data": {
      "text/plain": [
       "tuple"
      ]
     },
     "execution_count": 4,
     "metadata": {},
     "output_type": "execute_result"
    }
   ],
   "source": [
    "tuple1 = (11, 22, 33, 44, 55, 66)\n",
    "tuple2 = tuple1[3:-1]\n",
    "print(tuple2)\n",
    "type(tuple1)"
   ]
  },
  {
   "cell_type": "markdown",
   "metadata": {
    "id": "o9EeATMVVCMz"
   },
   "source": [
    "reverse the tuple"
   ]
  },
  {
   "cell_type": "code",
   "execution_count": 5,
   "metadata": {
    "colab": {
     "base_uri": "https://localhost:8080/"
    },
    "id": "YUAE_-57W_CQ",
    "outputId": "2805e056-662a-4bff-cd50-9d9bf5c66f24"
   },
   "outputs": [
    {
     "name": "stdout",
     "output_type": "stream",
     "text": [
      "(66, 55, 44, 33, 22, 11)\n"
     ]
    }
   ],
   "source": [
    "tuple = (11, 22, 33, 44, 55, 66)\n",
    "tuple = tuple[::-1]\n",
    "print(tuple)"
   ]
  },
  {
   "cell_type": "markdown",
   "metadata": {
    "id": "MXFohNfBXcF3"
   },
   "source": [
    "**Sets**"
   ]
  },
  {
   "cell_type": "markdown",
   "metadata": {
    "id": "J_EGCKuz2WbA"
   },
   "source": [
    "program to find the missing numbers in the second set as compared to the first and vice versa"
   ]
  },
  {
   "cell_type": "code",
   "execution_count": 6,
   "metadata": {
    "colab": {
     "base_uri": "https://localhost:8080/"
    },
    "id": "Uw7OGX7Sa4fY",
    "outputId": "559a4d08-2912-4aee-a923-14cba1c04452"
   },
   "outputs": [
    {
     "name": "stdout",
     "output_type": "stream",
     "text": [
      "Original sets:\n",
      "{1, 2, 3, 4, 5, 6}\n",
      "{3, 4, 5, 6, 7, 8}\n",
      "Missing numbers in the second set as compared to the first:\n",
      "{1, 2}\n",
      "Missing numbers in the first set as compared to the second:\n",
      "{8, 7}\n"
     ]
    }
   ],
   "source": [
    "def missing_numbers(set_nums1, set_nums2):\n",
    "    return set(set_nums1) - set(set_nums2),set(set_nums2) - set(set_nums1) \n",
    "\n",
    "set_nums1 = {1, 2, 3, 4, 5, 6}\n",
    "set_nums2 = {3, 4, 5, 6, 7, 8}\n",
    "result = missing_numbers(set_nums1, set_nums2)\n",
    "print(\"Original sets:\")\n",
    "print(set_nums1)\n",
    "print(set_nums2)\n",
    "print(\"Missing numbers in the second set as compared to the first:\")\n",
    "print(result[0])\n",
    "print(\"Missing numbers in the first set as compared to the second:\")\n",
    "print(result[1])"
   ]
  },
  {
   "cell_type": "markdown",
   "metadata": {
    "id": "MdNR9rGg21CF"
   },
   "source": [
    "Removing All the elements from a given set"
   ]
  },
  {
   "cell_type": "code",
   "execution_count": 7,
   "metadata": {
    "colab": {
     "base_uri": "https://localhost:8080/"
    },
    "id": "pWMJ1ktF22AF",
    "outputId": "1ac91894-09c2-4c90-b672-0b1b2246ae45"
   },
   "outputs": [
    {
     "name": "stdout",
     "output_type": "stream",
     "text": [
      "Original set elements:\n",
      "{'White', 'Red', 'Black', 'Green'}\n",
      "\n",
      "After removing all elements of the said set.\n",
      "set()\n"
     ]
    },
    {
     "data": {
      "text/plain": [
       "set"
      ]
     },
     "execution_count": 7,
     "metadata": {},
     "output_type": "execute_result"
    }
   ],
   "source": [
    "setc = {\"Red\", \"Green\", \"Black\", \"White\"}\n",
    "print(\"Original set elements:\")\n",
    "print(setc)        \n",
    "print(\"\\nAfter removing all elements of the said set.\")\n",
    "setc.clear()\n",
    "print(setc)\n",
    "type(setc)"
   ]
  },
  {
   "cell_type": "markdown",
   "metadata": {
    "id": "ovfAY1fM36aG"
   },
   "source": [
    "**Dictionary**"
   ]
  },
  {
   "cell_type": "markdown",
   "metadata": {
    "id": "yYMifD13-fKY"
   },
   "source": [
    "concatenate the dictionaries"
   ]
  },
  {
   "cell_type": "code",
   "execution_count": 8,
   "metadata": {
    "colab": {
     "base_uri": "https://localhost:8080/"
    },
    "id": "HRQfFSJM39-j",
    "outputId": "48ca34ac-0931-461b-8021-8757b27d8576"
   },
   "outputs": [
    {
     "name": "stdout",
     "output_type": "stream",
     "text": [
      "{1: 10, 2: 20, 3: 30, 4: 40, 5: 50, 6: 60}\n"
     ]
    }
   ],
   "source": [
    "dic1={1:10, 2:20}\n",
    "dic2={3:30, 4:40}\n",
    "dic3={5:50,6:60}\n",
    "dic4 = {}\n",
    "for d in (dic1, dic2, dic3): \n",
    "  dic4.update(d)\n",
    "print(dic4)"
   ]
  },
  {
   "cell_type": "markdown",
   "metadata": {
    "id": "1FkaeSr--lfm"
   },
   "source": [
    "A dictionary that contains a number (between 1 and n) in the form (x, x*x)."
   ]
  },
  {
   "cell_type": "code",
   "execution_count": 9,
   "metadata": {
    "colab": {
     "base_uri": "https://localhost:8080/"
    },
    "id": "gdikXCuj_Pdw",
    "outputId": "31443fed-a905-4e23-96d0-ff4957a69628"
   },
   "outputs": [
    {
     "name": "stdout",
     "output_type": "stream",
     "text": [
      "Input a number 12\n",
      "{1: 1, 2: 4, 3: 9, 4: 16, 5: 25, 6: 36, 7: 49, 8: 64, 9: 81, 10: 100, 11: 121, 12: 144}\n"
     ]
    }
   ],
   "source": [
    "n=int(input(\"Input a number \"))\n",
    "d = dict()\n",
    "\n",
    "for x in range(1,n+1):\n",
    "    d[x]=x*x\n",
    "\n",
    "print(d) "
   ]
  },
  {
   "cell_type": "markdown",
   "metadata": {
    "id": "r4CHK-Li_mme"
   },
   "source": [
    "dictionary where the keys are numbers and the values are the square of the keys. "
   ]
  },
  {
   "cell_type": "code",
   "execution_count": 10,
   "metadata": {
    "colab": {
     "base_uri": "https://localhost:8080/"
    },
    "id": "m6ib5aw1_p5M",
    "outputId": "9954f42b-9526-4df0-ecdd-bcedb29b87bc"
   },
   "outputs": [
    {
     "name": "stdout",
     "output_type": "stream",
     "text": [
      "{1: 1, 2: 4, 3: 9, 4: 16, 5: 25, 6: 36, 7: 49, 8: 64}\n"
     ]
    }
   ],
   "source": [
    "d=dict()\n",
    "for x in range(1,9):\n",
    "    d[x]=x**2\n",
    "print(d) "
   ]
  },
  {
   "cell_type": "markdown",
   "metadata": {
    "id": "Yz_hIhVA_5uz"
   },
   "source": [
    "deqeue"
   ]
  },
  {
   "cell_type": "code",
   "execution_count": 11,
   "metadata": {
    "colab": {
     "base_uri": "https://localhost:8080/",
     "height": 36
    },
    "id": "HWRXzVo5LrNG",
    "outputId": "94b4a554-bc88-43de-d034-2a7ee094940c"
   },
   "outputs": [
    {
     "data": {
      "text/plain": [
       "'Jane'"
      ]
     },
     "execution_count": 11,
     "metadata": {},
     "output_type": "execute_result"
    }
   ],
   "source": [
    "from collections import deque\n",
    "ticket_queue = deque()\n",
    "\n",
    "# People arrive to the queue\n",
    "ticket_queue.append(\"Jane\")\n",
    "ticket_queue.append(\"John\")\n",
    "ticket_queue.append(\"Linda\")\n",
    "\n",
    "ticket_queue\n",
    "deque(['Jane', 'John', 'Linda'])\n",
    "\n",
    "# People bought their tickets\n",
    "ticket_queue.popleft()"
   ]
  },
  {
   "cell_type": "markdown",
   "metadata": {
    "id": "VTZTd4ALMHnK"
   },
   "source": [
    "ordered dictionary"
   ]
  },
  {
   "cell_type": "code",
   "execution_count": 12,
   "metadata": {
    "colab": {
     "base_uri": "https://localhost:8080/"
    },
    "id": "a-b7nr6-Ocb3",
    "outputId": "64e909b3-b9b9-483b-8f5c-528b4311eba8"
   },
   "outputs": [
    {
     "name": "stdout",
     "output_type": "stream",
     "text": [
      "childhood -> 0-9\n",
      "adolescence -> 9-18\n",
      "adulthood -> 18-65\n",
      "old -> +65\n"
     ]
    }
   ],
   "source": [
    "from collections import OrderedDict\n",
    "life_stages = OrderedDict()\n",
    "life_stages[\"childhood\"] = \"0-9\"\n",
    "life_stages[\"adolescence\"] = \"9-18\"\n",
    "life_stages[\"adulthood\"] = \"18-65\"\n",
    "life_stages[\"old\"] = \"+65\"\n",
    "\n",
    "for stage, years in life_stages.items():\n",
    "      print(stage, \"->\", years)"
   ]
  },
  {
   "cell_type": "markdown",
   "metadata": {
    "id": "zTOU1EgDQxla"
   },
   "source": [
    "**chainmap**"
   ]
  },
  {
   "cell_type": "code",
   "execution_count": 13,
   "metadata": {
    "colab": {
     "base_uri": "https://localhost:8080/"
    },
    "id": "WaHAA36RQyMr",
    "outputId": "71e1740d-b8fd-4947-ee74-0ac794d2bedf"
   },
   "outputs": [
    {
     "name": "stdout",
     "output_type": "stream",
     "text": [
      "[{'Hira': 1, 'Hina': 2}, {'Kiran': 3, 'Komal': 4}]\n"
     ]
    }
   ],
   "source": [
    "import collections\n",
    "\n",
    "dictionary1 = { 'Hira' : 1, 'Hina' : 2 }  \n",
    "dictionary2 = { 'Kiran' : 3, 'Komal' : 4 }  \n",
    "chain_Map = collections.ChainMap(dictionary1, dictionary2)  \n",
    "print(chain_Map.maps) \n"
   ]
  },
  {
   "cell_type": "markdown",
   "metadata": {
    "id": "nsSTdgkRRUrg"
   },
   "source": [
    "NumPy Library"
   ]
  },
  {
   "cell_type": "code",
   "execution_count": 14,
   "metadata": {
    "colab": {
     "base_uri": "https://localhost:8080/"
    },
    "id": "JAbbM0YLRU3b",
    "outputId": "f067fe5a-f305-4a34-ce76-e4c485a402ab"
   },
   "outputs": [
    {
     "name": "stdout",
     "output_type": "stream",
     "text": [
      "Array created using passed list:\n",
      " [[1. 2. 4.]\n",
      " [5. 8. 7.]]\n",
      "\n",
      "Array created using passed tuple:\n",
      " [1 3 2]\n",
      "\n",
      "An array initialized with all zeros:\n",
      " [[0. 0. 0. 0.]\n",
      " [0. 0. 0. 0.]\n",
      " [0. 0. 0. 0.]]\n",
      "\n",
      "An array initialized with all 6s.Array type is complex:\n",
      " [[6.+0.j 6.+0.j 6.+0.j]\n",
      " [6.+0.j 6.+0.j 6.+0.j]\n",
      " [6.+0.j 6.+0.j 6.+0.j]]\n",
      "\n",
      "A random array:\n",
      " [[0.5820622  0.00093961]\n",
      " [0.8687931  0.60655727]]\n",
      "\n",
      "A sequential array with steps of 5:\n",
      " [ 0  5 10 15 20 25]\n",
      "\n",
      "A sequential array with 10 values between0 and 5:\n",
      " [0.         0.55555556 1.11111111 1.66666667 2.22222222 2.77777778\n",
      " 3.33333333 3.88888889 4.44444444 5.        ]\n",
      "\n",
      "Original array:\n",
      " [[1 2 3 4]\n",
      " [5 2 4 2]\n",
      " [1 2 0 1]]\n",
      "Reshaped array:\n",
      " [[[1 2 3]\n",
      "  [4 5 2]]\n",
      "\n",
      " [[4 2 1]\n",
      "  [2 0 1]]]\n",
      "\n",
      "Original array:\n",
      " [[1 2 3]\n",
      " [4 5 6]]\n",
      "Fattened array:\n",
      " [1 2 3 4 5 6]\n"
     ]
    }
   ],
   "source": [
    "# Python program to demonstrate\n",
    "# array creation techniques\n",
    "import numpy as np\n",
    "\n",
    "# Creating array from list with type float\n",
    "a = np.array([[1, 2, 4], [5, 8, 7]], dtype = 'float')\n",
    "print (\"Array created using passed list:\\n\", a)\n",
    "\n",
    "# Creating array from tuple\n",
    "b = np.array((1 , 3, 2))\n",
    "print (\"\\nArray created using passed tuple:\\n\", b)\n",
    "\n",
    "# Creating a 3X4 array with all zeros\n",
    "c = np.zeros((3, 4))\n",
    "print (\"\\nAn array initialized with all zeros:\\n\", c)\n",
    "\n",
    "# Create a constant value array of complex type\n",
    "d = np.full((3, 3), 6, dtype = 'complex')\n",
    "print (\"\\nAn array initialized with all 6s.\"\n",
    "\t\t\t\"Array type is complex:\\n\", d)\n",
    "\n",
    "# Create an array with random values\n",
    "e = np.random.random((2, 2))\n",
    "print (\"\\nA random array:\\n\", e)\n",
    "\n",
    "# Create a sequence of integers\n",
    "# from 0 to 30 with steps of 5\n",
    "f = np.arange(0, 30, 5)\n",
    "print (\"\\nA sequential array with steps of 5:\\n\", f)\n",
    "\n",
    "# Create a sequence of 10 values in range 0 to 5\n",
    "g = np.linspace(0, 5, 10)\n",
    "print (\"\\nA sequential array with 10 values between\"\n",
    "\t\t\t\t\t\t\t\t\t\t\"0 and 5:\\n\", g)\n",
    "\n",
    "# Reshaping 3X4 array to 2X2X3 array\n",
    "arr = np.array([[1, 2, 3, 4],\n",
    "\t\t\t\t[5, 2, 4, 2],\n",
    "\t\t\t\t[1, 2, 0, 1]])\n",
    "\n",
    "newarr = arr.reshape(2, 2, 3)\n",
    "\n",
    "print (\"\\nOriginal array:\\n\", arr)\n",
    "print (\"Reshaped array:\\n\", newarr)\n",
    "\n",
    "# Flatten array\n",
    "arr = np.array([[1, 2, 3], [4, 5, 6]])\n",
    "flarr = arr.flatten()\n",
    "\n",
    "print (\"\\nOriginal array:\\n\", arr)\n",
    "print (\"Fattened array:\\n\", flarr)\n"
   ]
  },
  {
   "cell_type": "markdown",
   "metadata": {
    "id": "zJpnXi7DSXrM"
   },
   "source": [
    "Indexing of Array"
   ]
  },
  {
   "cell_type": "code",
   "execution_count": 15,
   "metadata": {
    "colab": {
     "base_uri": "https://localhost:8080/"
    },
    "id": "_BpOh2MXbM9G",
    "outputId": "62a0334e-c52b-412b-ea13-4c8589e89f2e"
   },
   "outputs": [
    {
     "name": "stdout",
     "output_type": "stream",
     "text": [
      "[[-1.  0.]\n",
      " [ 4.  6.]]\n",
      "[4. 6. 0. 3.]\n",
      "\n",
      "Elements greater than 0:\n",
      " [2.  4.  4.  6.  2.6 7.  8.  3.  4.  2. ]\n"
     ]
    }
   ],
   "source": [
    "import numpy as np\n",
    " \n",
    "# An exemplar array\n",
    "arr = np.array([[-1, 2, 0, 4],\n",
    "                [4, -0.5, 6, 0],\n",
    "                [2.6, 0, 7, 8],\n",
    "                [3, -7, 4, 2.0]])\n",
    " \n",
    "# Slicing array\n",
    "temp = arr[:2, ::2]\n",
    "print (temp)\n",
    " \n",
    "# Integer array indexing example\n",
    "temp = arr[[0, 1, 2, 3], [3, 2, 1, 0]]\n",
    "print (temp)\n",
    " \n",
    "# boolean array indexing example\n",
    "cond = arr > 0 # cond is a boolean array\n",
    "temp = arr[cond]\n",
    "print (\"\\nElements greater than 0:\\n\", temp)"
   ]
  },
  {
   "cell_type": "markdown",
   "metadata": {
    "id": "eaXsf6_sb3wt"
   },
   "source": [
    "Operations on array"
   ]
  },
  {
   "cell_type": "code",
   "execution_count": 16,
   "metadata": {
    "colab": {
     "base_uri": "https://localhost:8080/"
    },
    "id": "WW59vUyHb4Et",
    "outputId": "14273547-47a1-464d-e10b-f0b5489c3cbe"
   },
   "outputs": [
    {
     "name": "stdout",
     "output_type": "stream",
     "text": [
      "Adding 1 to every element: [2 3 6 4]\n",
      "Subtracting 3 from each element: [-2 -1  2  0]\n",
      "Multiplying each element by 10: [10 20 50 30]\n",
      "Squaring each element: [ 1  4 25  9]\n",
      "Doubled each element of original array: [ 2  4 10  6]\n",
      "\n",
      "Original array:\n",
      " [[1 2 3]\n",
      " [3 4 5]\n",
      " [9 6 0]]\n",
      "Transpose of array:\n",
      " [[1 3 9]\n",
      " [2 4 6]\n",
      " [3 5 0]]\n"
     ]
    }
   ],
   "source": [
    "import numpy as np\n",
    " \n",
    "a = np.array([1, 2, 5, 3])\n",
    " \n",
    "# add 1 to every element\n",
    "print (\"Adding 1 to every element:\", a+1)\n",
    " \n",
    "# subtract 3 from each element\n",
    "print (\"Subtracting 3 from each element:\", a-3)\n",
    " \n",
    "# multiply each element by 10\n",
    "print (\"Multiplying each element by 10:\", a*10)\n",
    " \n",
    "# square each element\n",
    "print (\"Squaring each element:\", a**2)\n",
    " \n",
    "# modify existing array\n",
    "a *= 2\n",
    "print (\"Doubled each element of original array:\", a)\n",
    " \n",
    "# transpose of array\n",
    "a = np.array([[1, 2, 3], [3, 4, 5], [9, 6, 0]])\n",
    " \n",
    "print (\"\\nOriginal array:\\n\", a)\n",
    "print (\"Transpose of array:\\n\", a.T)"
   ]
  },
  {
   "cell_type": "markdown",
   "metadata": {
    "id": "UWZ9PO80oNEW"
   },
   "source": [
    "**Pandas**"
   ]
  },
  {
   "cell_type": "code",
   "execution_count": 17,
   "metadata": {
    "colab": {
     "base_uri": "https://localhost:8080/"
    },
    "id": "QAngK7guoPrK",
    "outputId": "33a9ade4-d805-430e-9bc0-5753c4d72fc3"
   },
   "outputs": [
    {
     "name": "stdout",
     "output_type": "stream",
     "text": [
      "data1:\n",
      " a    1\n",
      "b    4\n",
      "c    2\n",
      "d    7\n",
      "e    8\n",
      "dtype: int64\n",
      "\n",
      "data2:\n",
      " a    3\n",
      "b    6\n",
      "c    1\n",
      "d    0\n",
      "e    8\n",
      "dtype: int64\n",
      "\n",
      "data1+data2:\n",
      " a     4\n",
      "b    10\n",
      "c     3\n",
      "d     7\n",
      "e    16\n",
      "dtype: int64\n"
     ]
    }
   ],
   "source": [
    "import pandas as pd\n",
    "data1=pd.Series([1,4,2,7,8],index=['a','b','c', 'd','e'])\n",
    "data2=pd.Series([3,6,1,0,8],index=['a','b','c', 'd','e'])\n",
    "print(\"data1:\\n\", data1)\n",
    "print()\n",
    "print(\"data2:\\n\", data2)\n",
    "print()\n",
    "df=data1.add(data2)\n",
    "print(\"data1+data2:\\n\",df)"
   ]
  },
  {
   "cell_type": "code",
   "execution_count": 18,
   "metadata": {
    "colab": {
     "base_uri": "https://localhost:8080/"
    },
    "id": "ROn8mTndohhu",
    "outputId": "729e20aa-04b4-4883-e238-9f12cc4b5f0e"
   },
   "outputs": [
    {
     "name": "stdout",
     "output_type": "stream",
     "text": [
      "Before Conversion:\n",
      "\n",
      "a    1\n",
      "b    4\n",
      "c    2\n",
      "d    7\n",
      "e    8\n",
      "dtype: int64\n",
      "\n",
      "After Conversion:\n",
      "\n",
      "data1:\n",
      " a    1.0\n",
      "b    4.0\n",
      "c    2.0\n",
      "d    7.0\n",
      "e    8.0\n",
      "dtype: float64\n"
     ]
    }
   ],
   "source": [
    "import pandas as pd\n",
    "data1=pd.Series([1,4,2,7,8],index=['a','b','c', 'd','e'])\n",
    "print(\"Before Conversion:\\n\")\n",
    "print(data1)\n",
    "print()\n",
    "print(\"After Conversion:\\n\")\n",
    "data2=data1.astype(float)\n",
    "print(\"data1:\\n\", data2)"
   ]
  },
  {
   "cell_type": "code",
   "execution_count": 19,
   "metadata": {
    "colab": {
     "base_uri": "https://localhost:8080/"
    },
    "id": "ZE1-TI6nqm4_",
    "outputId": "40dff236-db06-4191-a3b3-4bd74dfb3a4c"
   },
   "outputs": [
    {
     "name": "stdout",
     "output_type": "stream",
     "text": [
      "<class 'pandas.core.frame.DataFrame'>\n",
      "           Date  Births\n",
      "0    1959-01-01      35\n",
      "1    1959-01-02      32\n",
      "2    1959-01-03      30\n",
      "3    1959-01-04      31\n",
      "4    1959-01-05      44\n",
      "..          ...     ...\n",
      "360  1959-12-27      37\n",
      "361  1959-12-28      52\n",
      "362  1959-12-29      48\n",
      "363  1959-12-30      55\n",
      "364  1959-12-31      50\n",
      "\n",
      "[365 rows x 2 columns]\n",
      "         Date  Births\n",
      "0  1959-01-01      35\n",
      "1  1959-01-02      32\n",
      "2  1959-01-03      30\n",
      "3  1959-01-04      31\n",
      "4  1959-01-05      44\n",
      "5  1959-01-06      29\n",
      "Before:\n",
      " 0      35\n",
      "1      32\n",
      "2      30\n",
      "3      31\n",
      "4      44\n",
      "       ..\n",
      "360    37\n",
      "361    52\n",
      "362    48\n",
      "363    55\n",
      "364    50\n",
      "Name: Births, Length: 365, dtype: int64\n",
      "\n",
      "After:\n",
      " 0      35.0\n",
      "1      32.0\n",
      "2      30.0\n",
      "3      31.0\n",
      "4      44.0\n",
      "       ... \n",
      "360    37.0\n",
      "361    52.0\n",
      "362    48.0\n",
      "363    55.0\n",
      "364    50.0\n",
      "Name: Births, Length: 365, dtype: float64\n"
     ]
    }
   ],
   "source": [
    "import pandas as pd\n",
    "data = pd.read_csv('https://raw.githubusercontent.com/jbrownlee/Datasets/master/daily-total-female-births.csv')\n",
    "print(type(data))\n",
    "print(data)\n",
    "print(data.head(6))\n",
    "df=data[\"Births\"]\n",
    "print(\"Before:\\n\",df)\n",
    "print()\n",
    "print(\"After:\\n\",df.astype(float))"
   ]
  },
  {
   "cell_type": "code",
   "execution_count": 20,
   "metadata": {},
   "outputs": [
    {
     "name": "stdout",
     "output_type": "stream",
     "text": [
      "\n",
      "JSON data:\n",
      "{'Name': 'AHMED ALI ANSARI', 'Semester': 'VI', 'ID': 1402}\n",
      "\n",
      "Name:  AHMED ALI ANSARI\n",
      "Semester:  VI\n",
      "ID:  1402\n"
     ]
    }
   ],
   "source": [
    "import json\n",
    "json_obj =  '{ \"Name\":\"AHMED ALI ANSARI\", \"Semester\":\"VI\", \"ID\":1402 }'\n",
    "python_obj = json.loads(json_obj)\n",
    "print(\"\\nJSON data:\")\n",
    "print(python_obj)\n",
    "print(\"\\nName: \",python_obj[\"Name\"])\n",
    "print(\"Semester: \",python_obj[\"Semester\"])\n",
    "print(\"ID: \",python_obj[\"ID\"]) \n"
   ]
  },
  {
   "cell_type": "code",
   "execution_count": 26,
   "metadata": {},
   "outputs": [
    {
     "name": "stdout",
     "output_type": "stream",
     "text": [
      "\n",
      "JSON data:\n",
      "{\"Name\": \"AHMED ALI ANSARI\", \"Semester\": \"VI\", \"ID\": 1402}\n",
      "The json file is created\n"
     ]
    }
   ],
   "source": [
    "import json\n",
    "python_obj =  { \"Name\":\"AHMED ALI ANSARI\", \"Semester\":\"VI\", \"ID\":1402 }\n",
    "jasobj = json.dumps(python_obj)\n",
    "print(\"\\nJSON data:\")\n",
    "print(jasobj)\n",
    "\n",
    "with open('jasobj.json', 'w') as f:\n",
    "  print(\"The json file is created\")"
   ]
  },
  {
   "cell_type": "code",
   "execution_count": 23,
   "metadata": {},
   "outputs": [
    {
     "ename": "FileNotFoundError",
     "evalue": "[Errno 2] No such file or directory: 'data.json'",
     "output_type": "error",
     "traceback": [
      "\u001b[1;31m---------------------------------------------------------------------------\u001b[0m",
      "\u001b[1;31mFileNotFoundError\u001b[0m                         Traceback (most recent call last)",
      "\u001b[1;32m~\\AppData\\Local\\Temp\\ipykernel_1288\\1979928808.py\u001b[0m in \u001b[0;36m<module>\u001b[1;34m\u001b[0m\n\u001b[0;32m      1\u001b[0m \u001b[1;32mimport\u001b[0m \u001b[0mjson\u001b[0m\u001b[1;33m\u001b[0m\u001b[1;33m\u001b[0m\u001b[0m\n\u001b[0;32m      2\u001b[0m \u001b[1;33m\u001b[0m\u001b[0m\n\u001b[1;32m----> 3\u001b[1;33m \u001b[1;32mwith\u001b[0m \u001b[0mopen\u001b[0m\u001b[1;33m(\u001b[0m\u001b[1;34m'data.json'\u001b[0m\u001b[1;33m)\u001b[0m \u001b[1;32mas\u001b[0m \u001b[0mf\u001b[0m\u001b[1;33m:\u001b[0m\u001b[1;33m\u001b[0m\u001b[1;33m\u001b[0m\u001b[0m\n\u001b[0m\u001b[0;32m      4\u001b[0m     \u001b[0mdata\u001b[0m \u001b[1;33m=\u001b[0m \u001b[0mjson\u001b[0m\u001b[1;33m.\u001b[0m\u001b[0mload\u001b[0m\u001b[1;33m(\u001b[0m\u001b[0mf\u001b[0m\u001b[1;33m)\u001b[0m\u001b[1;33m\u001b[0m\u001b[1;33m\u001b[0m\u001b[0m\n\u001b[0;32m      5\u001b[0m \u001b[1;33m\u001b[0m\u001b[0m\n",
      "\u001b[1;31mFileNotFoundError\u001b[0m: [Errno 2] No such file or directory: 'data.json'"
     ]
    }
   ],
   "source": []
  },
  {
   "cell_type": "code",
   "execution_count": 36,
   "metadata": {
    "scrolled": true
   },
   "outputs": [
    {
     "ename": "JSONDecodeError",
     "evalue": "Expecting value: line 1 column 1 (char 0)",
     "output_type": "error",
     "traceback": [
      "\u001b[1;31m---------------------------------------------------------------------------\u001b[0m",
      "\u001b[1;31mJSONDecodeError\u001b[0m                           Traceback (most recent call last)",
      "\u001b[1;32m~\\AppData\\Local\\Temp\\ipykernel_1288\\2816538186.py\u001b[0m in \u001b[0;36m<module>\u001b[1;34m\u001b[0m\n\u001b[0;32m      2\u001b[0m \u001b[1;33m\u001b[0m\u001b[0m\n\u001b[0;32m      3\u001b[0m \u001b[1;32mwith\u001b[0m \u001b[0mopen\u001b[0m\u001b[1;33m(\u001b[0m\u001b[1;34m'jasobj.json'\u001b[0m\u001b[1;33m,\u001b[0m \u001b[1;34m'r'\u001b[0m\u001b[1;33m)\u001b[0m \u001b[1;32mas\u001b[0m \u001b[0mj\u001b[0m\u001b[1;33m:\u001b[0m\u001b[1;33m\u001b[0m\u001b[1;33m\u001b[0m\u001b[0m\n\u001b[1;32m----> 4\u001b[1;33m      \u001b[0mcontents\u001b[0m \u001b[1;33m=\u001b[0m \u001b[0mjson\u001b[0m\u001b[1;33m.\u001b[0m\u001b[0mloads\u001b[0m\u001b[1;33m(\u001b[0m\u001b[0mj\u001b[0m\u001b[1;33m.\u001b[0m\u001b[0mread\u001b[0m\u001b[1;33m(\u001b[0m\u001b[1;33m)\u001b[0m\u001b[1;33m)\u001b[0m\u001b[1;33m\u001b[0m\u001b[1;33m\u001b[0m\u001b[0m\n\u001b[0m\u001b[0;32m      5\u001b[0m     \u001b[1;31m#data = json.load(f)\u001b[0m\u001b[1;33m\u001b[0m\u001b[1;33m\u001b[0m\u001b[0m\n\u001b[0;32m      6\u001b[0m \u001b[1;33m\u001b[0m\u001b[0m\n",
      "\u001b[1;32m~\\anaconda3\\lib\\json\\__init__.py\u001b[0m in \u001b[0;36mloads\u001b[1;34m(s, cls, object_hook, parse_float, parse_int, parse_constant, object_pairs_hook, **kw)\u001b[0m\n\u001b[0;32m    344\u001b[0m             \u001b[0mparse_int\u001b[0m \u001b[1;32mis\u001b[0m \u001b[1;32mNone\u001b[0m \u001b[1;32mand\u001b[0m \u001b[0mparse_float\u001b[0m \u001b[1;32mis\u001b[0m \u001b[1;32mNone\u001b[0m \u001b[1;32mand\u001b[0m\u001b[1;33m\u001b[0m\u001b[1;33m\u001b[0m\u001b[0m\n\u001b[0;32m    345\u001b[0m             parse_constant is None and object_pairs_hook is None and not kw):\n\u001b[1;32m--> 346\u001b[1;33m         \u001b[1;32mreturn\u001b[0m \u001b[0m_default_decoder\u001b[0m\u001b[1;33m.\u001b[0m\u001b[0mdecode\u001b[0m\u001b[1;33m(\u001b[0m\u001b[0ms\u001b[0m\u001b[1;33m)\u001b[0m\u001b[1;33m\u001b[0m\u001b[1;33m\u001b[0m\u001b[0m\n\u001b[0m\u001b[0;32m    347\u001b[0m     \u001b[1;32mif\u001b[0m \u001b[0mcls\u001b[0m \u001b[1;32mis\u001b[0m \u001b[1;32mNone\u001b[0m\u001b[1;33m:\u001b[0m\u001b[1;33m\u001b[0m\u001b[1;33m\u001b[0m\u001b[0m\n\u001b[0;32m    348\u001b[0m         \u001b[0mcls\u001b[0m \u001b[1;33m=\u001b[0m \u001b[0mJSONDecoder\u001b[0m\u001b[1;33m\u001b[0m\u001b[1;33m\u001b[0m\u001b[0m\n",
      "\u001b[1;32m~\\anaconda3\\lib\\json\\decoder.py\u001b[0m in \u001b[0;36mdecode\u001b[1;34m(self, s, _w)\u001b[0m\n\u001b[0;32m    335\u001b[0m \u001b[1;33m\u001b[0m\u001b[0m\n\u001b[0;32m    336\u001b[0m         \"\"\"\n\u001b[1;32m--> 337\u001b[1;33m         \u001b[0mobj\u001b[0m\u001b[1;33m,\u001b[0m \u001b[0mend\u001b[0m \u001b[1;33m=\u001b[0m \u001b[0mself\u001b[0m\u001b[1;33m.\u001b[0m\u001b[0mraw_decode\u001b[0m\u001b[1;33m(\u001b[0m\u001b[0ms\u001b[0m\u001b[1;33m,\u001b[0m \u001b[0midx\u001b[0m\u001b[1;33m=\u001b[0m\u001b[0m_w\u001b[0m\u001b[1;33m(\u001b[0m\u001b[0ms\u001b[0m\u001b[1;33m,\u001b[0m \u001b[1;36m0\u001b[0m\u001b[1;33m)\u001b[0m\u001b[1;33m.\u001b[0m\u001b[0mend\u001b[0m\u001b[1;33m(\u001b[0m\u001b[1;33m)\u001b[0m\u001b[1;33m)\u001b[0m\u001b[1;33m\u001b[0m\u001b[1;33m\u001b[0m\u001b[0m\n\u001b[0m\u001b[0;32m    338\u001b[0m         \u001b[0mend\u001b[0m \u001b[1;33m=\u001b[0m \u001b[0m_w\u001b[0m\u001b[1;33m(\u001b[0m\u001b[0ms\u001b[0m\u001b[1;33m,\u001b[0m \u001b[0mend\u001b[0m\u001b[1;33m)\u001b[0m\u001b[1;33m.\u001b[0m\u001b[0mend\u001b[0m\u001b[1;33m(\u001b[0m\u001b[1;33m)\u001b[0m\u001b[1;33m\u001b[0m\u001b[1;33m\u001b[0m\u001b[0m\n\u001b[0;32m    339\u001b[0m         \u001b[1;32mif\u001b[0m \u001b[0mend\u001b[0m \u001b[1;33m!=\u001b[0m \u001b[0mlen\u001b[0m\u001b[1;33m(\u001b[0m\u001b[0ms\u001b[0m\u001b[1;33m)\u001b[0m\u001b[1;33m:\u001b[0m\u001b[1;33m\u001b[0m\u001b[1;33m\u001b[0m\u001b[0m\n",
      "\u001b[1;32m~\\anaconda3\\lib\\json\\decoder.py\u001b[0m in \u001b[0;36mraw_decode\u001b[1;34m(self, s, idx)\u001b[0m\n\u001b[0;32m    353\u001b[0m             \u001b[0mobj\u001b[0m\u001b[1;33m,\u001b[0m \u001b[0mend\u001b[0m \u001b[1;33m=\u001b[0m \u001b[0mself\u001b[0m\u001b[1;33m.\u001b[0m\u001b[0mscan_once\u001b[0m\u001b[1;33m(\u001b[0m\u001b[0ms\u001b[0m\u001b[1;33m,\u001b[0m \u001b[0midx\u001b[0m\u001b[1;33m)\u001b[0m\u001b[1;33m\u001b[0m\u001b[1;33m\u001b[0m\u001b[0m\n\u001b[0;32m    354\u001b[0m         \u001b[1;32mexcept\u001b[0m \u001b[0mStopIteration\u001b[0m \u001b[1;32mas\u001b[0m \u001b[0merr\u001b[0m\u001b[1;33m:\u001b[0m\u001b[1;33m\u001b[0m\u001b[1;33m\u001b[0m\u001b[0m\n\u001b[1;32m--> 355\u001b[1;33m             \u001b[1;32mraise\u001b[0m \u001b[0mJSONDecodeError\u001b[0m\u001b[1;33m(\u001b[0m\u001b[1;34m\"Expecting value\"\u001b[0m\u001b[1;33m,\u001b[0m \u001b[0ms\u001b[0m\u001b[1;33m,\u001b[0m \u001b[0merr\u001b[0m\u001b[1;33m.\u001b[0m\u001b[0mvalue\u001b[0m\u001b[1;33m)\u001b[0m \u001b[1;32mfrom\u001b[0m \u001b[1;32mNone\u001b[0m\u001b[1;33m\u001b[0m\u001b[1;33m\u001b[0m\u001b[0m\n\u001b[0m\u001b[0;32m    356\u001b[0m         \u001b[1;32mreturn\u001b[0m \u001b[0mobj\u001b[0m\u001b[1;33m,\u001b[0m \u001b[0mend\u001b[0m\u001b[1;33m\u001b[0m\u001b[1;33m\u001b[0m\u001b[0m\n",
      "\u001b[1;31mJSONDecodeError\u001b[0m: Expecting value: line 1 column 1 (char 0)"
     ]
    }
   ],
   "source": [
    "import json\n",
    "\n",
    "with open('jasobj.json', 'r') as j:\n",
    "     contents = json.loads(j.read())\n",
    "    #data = json.load(f)\n",
    "\n",
    "for info in contents['Name']:\n",
    "    del state['AHMED ALI ANSARI']\n",
    "\n",
    "with open('jasobj.json', 'w') as f:\n",
    "    json.dump(state_data, f, indent=2)"
   ]
  },
  {
   "cell_type": "code",
   "execution_count": null,
   "metadata": {},
   "outputs": [],
   "source": []
  },
  {
   "cell_type": "code",
   "execution_count": null,
   "metadata": {},
   "outputs": [],
   "source": []
  }
 ],
 "metadata": {
  "colab": {
   "provenance": []
  },
  "kernelspec": {
   "display_name": "Python 3 (ipykernel)",
   "language": "python",
   "name": "python3"
  },
  "language_info": {
   "codemirror_mode": {
    "name": "ipython",
    "version": 3
   },
   "file_extension": ".py",
   "mimetype": "text/x-python",
   "name": "python",
   "nbconvert_exporter": "python",
   "pygments_lexer": "ipython3",
   "version": "3.9.13"
  }
 },
 "nbformat": 4,
 "nbformat_minor": 1
}
