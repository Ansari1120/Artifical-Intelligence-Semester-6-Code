{
 "cells": [
  {
   "cell_type": "code",
   "execution_count": 1,
   "id": "82d28587",
   "metadata": {},
   "outputs": [
    {
     "name": "stderr",
     "output_type": "stream",
     "text": [
      "[nltk_data] Downloading package punkt to\n",
      "[nltk_data]     C:\\Users\\12-10-2021\\AppData\\Roaming\\nltk_data...\n",
      "[nltk_data]   Unzipping tokenizers\\punkt.zip.\n",
      "[nltk_data] Downloading package averaged_perceptron_tagger to\n",
      "[nltk_data]     C:\\Users\\12-10-2021\\AppData\\Roaming\\nltk_data...\n",
      "[nltk_data]   Unzipping taggers\\averaged_perceptron_tagger.zip.\n",
      "[nltk_data] Downloading package wordnet to\n",
      "[nltk_data]     C:\\Users\\12-10-2021\\AppData\\Roaming\\nltk_data...\n",
      "[nltk_data] Downloading package maxent_ne_chunker to\n",
      "[nltk_data]     C:\\Users\\12-10-2021\\AppData\\Roaming\\nltk_data...\n",
      "[nltk_data]   Unzipping chunkers\\maxent_ne_chunker.zip.\n",
      "[nltk_data] Downloading package words to\n",
      "[nltk_data]     C:\\Users\\12-10-2021\\AppData\\Roaming\\nltk_data...\n",
      "[nltk_data]   Unzipping corpora\\words.zip.\n",
      "[nltk_data] Downloading package maxent_treebank_pos_tagger to\n",
      "[nltk_data]     C:\\Users\\12-10-2021\\AppData\\Roaming\\nltk_data...\n",
      "[nltk_data]   Unzipping taggers\\maxent_treebank_pos_tagger.zip.\n",
      "[nltk_data] Downloading package stopwords to\n",
      "[nltk_data]     C:\\Users\\12-10-2021\\AppData\\Roaming\\nltk_data...\n",
      "[nltk_data]   Unzipping corpora\\stopwords.zip.\n"
     ]
    },
    {
     "data": {
      "text/plain": [
       "True"
      ]
     },
     "execution_count": 1,
     "metadata": {},
     "output_type": "execute_result"
    }
   ],
   "source": [
    "import nltk\n",
    "nltk.download('punkt')\n",
    "nltk.download('averaged_perceptron_tagger')\n",
    "nltk.download('wordnet')\n",
    "nltk.download('maxent_ne_chunker')\n",
    "nltk.download('words')\n",
    "nltk.download('maxent_treebank_pos_tagger')\n",
    "nltk.download('stopwords')\n"
   ]
  },
  {
   "cell_type": "code",
   "execution_count": 2,
   "id": "a91801dd",
   "metadata": {},
   "outputs": [
    {
     "name": "stdout",
     "output_type": "stream",
     "text": [
      "running -> run\n",
      "running -> run\n",
      "runner -> runner\n",
      "ran -> ran\n",
      "runs -> run\n"
     ]
    }
   ],
   "source": [
    "from nltk.stem import PorterStemmer\n",
    "\n",
    "# Initialize the stemmer\n",
    "stemmer = PorterStemmer()\n",
    "\n",
    "# Example words to stem\n",
    "words = [\"running\", \"running\", \"runner\", \"ran\", \"runs\"]\n",
    "\n",
    "# Stem the words\n",
    "stemmed_words = [stemmer.stem(word) for word in words]\n",
    "\n",
    "# Print the stemmed words\n",
    "for word, stemmed_word in zip(words, stemmed_words):\n",
    "    print(f\"{word} -> {stemmed_word}\")\n"
   ]
  },
  {
   "cell_type": "code",
   "execution_count": 3,
   "id": "faf8ed96",
   "metadata": {},
   "outputs": [
    {
     "name": "stdout",
     "output_type": "stream",
     "text": [
      "The - DT\n",
      "cat - NN\n",
      "is - VBZ\n",
      "sitting - VBG\n",
      "on - IN\n",
      "the - DT\n",
      "mat - NN\n",
      ". - .\n"
     ]
    }
   ],
   "source": [
    "import nltk\n",
    "\n",
    "# Sample sentence\n",
    "sentence = \"The cat is sitting on the mat.\"\n",
    "\n",
    "# Tokenize the sentence into words\n",
    "tokens = nltk.word_tokenize(sentence)\n",
    "\n",
    "# Perform POS tagging\n",
    "pos_tags = nltk.pos_tag(tokens)\n",
    "\n",
    "# Print the POS tags\n",
    "for word, tag in pos_tags:\n",
    "    print(word, \"-\", tag)\n"
   ]
  },
  {
   "cell_type": "code",
   "execution_count": 13,
   "id": "a3003672",
   "metadata": {},
   "outputs": [
    {
     "name": "stdout",
     "output_type": "stream",
     "text": [
      "(S\n",
      "  (NP The/DT quick/JJ brown/NN fox/NN)\n",
      "  jumps/VBZ\n",
      "  (PP over/IN (NP the/DT lazy/JJ dog/NN)))\n"
     ]
    }
   ],
   "source": [
    "import nltk\n",
    "\n",
    "# Sample sentence\n",
    "sentence = \"The quick brown fox jumps over the lazy dog\"\n",
    "\n",
    "# Tokenize the sentence into words\n",
    "tokens = nltk.word_tokenize(sentence)\n",
    "\n",
    "# Perform Part-of-Speech tagging\n",
    "pos_tags = nltk.pos_tag(tokens)\n",
    "\n",
    "# Define the chunk grammar using regular expressions\n",
    "chunk_grammar = r\"\"\"\n",
    "    NP: {<DT|JJ|NN.*>+}   # Chunk sequences of DT, JJ, NN\n",
    "    VP: {<VB.*><NP|PP>}    # Chunk verbs and their arguments\n",
    "    PP: {<IN><NP>}         # Chunk prepositions and their objects\n",
    "\"\"\"\n",
    "\n",
    "# Create a chunk parser with the defined grammar\n",
    "chunk_parser = nltk.RegexpParser(chunk_grammar)\n",
    "\n",
    "# Apply chunking to the POS-tagged sentence\n",
    "chunks = chunk_parser.parse(pos_tags)\n",
    "\n",
    "# Print the resulting chunks\n",
    "print(chunks)\n"
   ]
  },
  {
   "cell_type": "code",
   "execution_count": null,
   "id": "aa9d3685",
   "metadata": {
    "scrolled": true
   },
   "outputs": [],
   "source": [
    "from nltk.tokenize import word_tokenize\n",
    "from nltk.corpus import gutenberg\n",
    "from gensim.models import Word2Vec\n",
    "\n",
    "# Load the Gutenberg corpus from NLTK\n",
    "nltk_corpus = gutenberg.sents()\n",
    "\n",
    "# Tokenize the sentences\n",
    "sentences = [word_tokenize(' '.join(sentence)) for sentence in nltk_corpus]\n",
    "\n",
    "# Train the Word2Vec model with modified parameters\n",
    "model = Word2Vec(sentences, vector_size=100, window=5, min_count=1, workers=4, sg=1, hs=0, negative=10, epochs=10)\n",
    "\n",
    "# Get the word embedding for a specific word\n",
    "word = \"king\"\n",
    "embedding = model.wv[word]\n",
    "print(f\"Word embedding for '{word}': {embedding}\")\n",
    "\n",
    "# Find similar words to a given word\n",
    "similar_words = model.wv.most_similar(word)\n",
    "print(f\"Similar words to '{word}': {similar_words}\")\n"
   ]
  },
  {
   "cell_type": "code",
   "execution_count": null,
   "id": "8c53ec32",
   "metadata": {},
   "outputs": [],
   "source": [
    "Word embedding for 'king': [0.123, -0.456, 0.789, ...]  \n",
    "\n",
    "Similar words to 'king': [('queen', 0.876), ('prince', 0.765), ('ruler', 0.654), ...]  \n"
   ]
  }
 ],
 "metadata": {
  "kernelspec": {
   "display_name": "Python 3 (ipykernel)",
   "language": "python",
   "name": "python3"
  },
  "language_info": {
   "codemirror_mode": {
    "name": "ipython",
    "version": 3
   },
   "file_extension": ".py",
   "mimetype": "text/x-python",
   "name": "python",
   "nbconvert_exporter": "python",
   "pygments_lexer": "ipython3",
   "version": "3.9.13"
  }
 },
 "nbformat": 4,
 "nbformat_minor": 5
}
