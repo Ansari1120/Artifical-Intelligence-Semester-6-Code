{
  "nbformat": 4,
  "nbformat_minor": 0,
  "metadata": {
    "colab": {
      "provenance": []
    },
    "kernelspec": {
      "name": "python3",
      "display_name": "Python 3"
    },
    "language_info": {
      "name": "python"
    }
  },
  "cells": [
    {
      "cell_type": "markdown",
      "source": [
        "Variable"
      ],
      "metadata": {
        "id": "dEaK4vkRhShs"
      }
    },
    {
      "cell_type": "code",
      "source": [
        "x = 123456\n",
        "y = \"Komal chohan\"\n",
        "print(x)\n",
        "print(y)"
      ],
      "metadata": {
        "colab": {
          "base_uri": "https://localhost:8080/"
        },
        "id": "ZbVq1dkBhcKC",
        "outputId": "9fb1c4a5-071c-4041-c03a-8f5477468a6f"
      },
      "execution_count": 1,
      "outputs": [
        {
          "output_type": "stream",
          "name": "stdout",
          "text": [
            "123456\n",
            "Komal chohan\n"
          ]
        }
      ]
    },
    {
      "cell_type": "markdown",
      "source": [
        "The Type of the variable"
      ],
      "metadata": {
        "id": "gscLVShpXDLt"
      }
    },
    {
      "cell_type": "code",
      "source": [
        "x = 123456\n",
        "y = \"Komal Chohan\"\n",
        "print(type(x))\n",
        "print(type(y))"
      ],
      "metadata": {
        "colab": {
          "base_uri": "https://localhost:8080/"
        },
        "id": "H9mhoClmW7NV",
        "outputId": "b45ec166-5422-46cc-d7f4-c1160bf4fde8"
      },
      "execution_count": 2,
      "outputs": [
        {
          "output_type": "stream",
          "name": "stdout",
          "text": [
            "<class 'int'>\n",
            "<class 'str'>\n"
          ]
        }
      ]
    },
    {
      "cell_type": "markdown",
      "source": [
        "Single or Double Quotes"
      ],
      "metadata": {
        "id": "Zp7U6AkCXlJX"
      }
    },
    {
      "cell_type": "code",
      "source": [
        "x = \"Komal Chohan\"\n",
        "# is the same as\n",
        "y = 'Komal Chohan'\n",
        "print(x)\n",
        "print(type(x))\n",
        "print(y)\n",
        "print(type(y))"
      ],
      "metadata": {
        "colab": {
          "base_uri": "https://localhost:8080/"
        },
        "id": "tuKI7FIHXmhr",
        "outputId": "37994f88-fa30-44db-8ac0-7f38fc787244"
      },
      "execution_count": 5,
      "outputs": [
        {
          "output_type": "stream",
          "name": "stdout",
          "text": [
            "Komal Chohan\n",
            "<class 'str'>\n",
            "Komal Chohan\n",
            "<class 'str'>\n"
          ]
        }
      ]
    },
    {
      "cell_type": "markdown",
      "source": [
        "Reserved Words "
      ],
      "metadata": {
        "id": "PsOqbnA7Z1s6"
      }
    },
    {
      "cell_type": "code",
      "source": [
        "for = 3"
      ],
      "metadata": {
        "colab": {
          "base_uri": "https://localhost:8080/",
          "height": 130
        },
        "id": "UHeGQv9jZ21J",
        "outputId": "540725c7-d9ef-4319-e2d3-511297d055c4"
      },
      "execution_count": 6,
      "outputs": [
        {
          "output_type": "error",
          "ename": "SyntaxError",
          "evalue": "ignored",
          "traceback": [
            "\u001b[0;36m  File \u001b[0;32m\"<ipython-input-6-c8ee3642ab3d>\"\u001b[0;36m, line \u001b[0;32m1\u001b[0m\n\u001b[0;31m    for = 3\u001b[0m\n\u001b[0m        ^\u001b[0m\n\u001b[0;31mSyntaxError\u001b[0m\u001b[0;31m:\u001b[0m invalid syntax\n"
          ]
        }
      ]
    },
    {
      "cell_type": "markdown",
      "source": [
        "There are three numeric types in Python:\n",
        "\n",
        "int\n",
        "float\n",
        "complex"
      ],
      "metadata": {
        "id": "BE1IA0sFah5u"
      }
    },
    {
      "cell_type": "code",
      "source": [
        "x = 134  \n",
        "y = 3.8\n",
        "print(type(x))\n",
        "print(type(y))"
      ],
      "metadata": {
        "colab": {
          "base_uri": "https://localhost:8080/"
        },
        "id": "R0tLwy5HalpB",
        "outputId": "31b9b3b2-6ac4-4153-8593-329029733068"
      },
      "execution_count": 9,
      "outputs": [
        {
          "output_type": "stream",
          "name": "stdout",
          "text": [
            "<class 'int'>\n",
            "<class 'float'>\n",
            "<class 'complex'>\n"
          ]
        }
      ]
    },
    {
      "cell_type": "markdown",
      "source": [
        "Complex numbers are written with a \"j\" as the imaginary part:"
      ],
      "metadata": {
        "id": "08HdIQtQbZAt"
      }
    },
    {
      "cell_type": "code",
      "source": [
        "x = 3+5j\n",
        "y = 5j\n",
        "z = -5j\n",
        "\n",
        "print(type(x))\n",
        "print(type(y))\n",
        "print(type(z))"
      ],
      "metadata": {
        "colab": {
          "base_uri": "https://localhost:8080/"
        },
        "id": "P15oWwQkbyGU",
        "outputId": "6b8f0f53-7f63-4a9b-95b4-5f6f38d4c758"
      },
      "execution_count": 10,
      "outputs": [
        {
          "output_type": "stream",
          "name": "stdout",
          "text": [
            "<class 'complex'>\n",
            "<class 'complex'>\n",
            "<class 'complex'>\n"
          ]
        }
      ]
    },
    {
      "cell_type": "markdown",
      "source": [
        "Boolean Values"
      ],
      "metadata": {
        "id": "bZJ0WL_fcdhL"
      }
    },
    {
      "cell_type": "code",
      "source": [
        "print(10 > 9)\n",
        "print(10 == 9)\n",
        "print(10 < 9)"
      ],
      "metadata": {
        "colab": {
          "base_uri": "https://localhost:8080/"
        },
        "id": "Lhub6h48cgeL",
        "outputId": "41fb2039-9587-4a63-d52e-b7da2d39741f"
      },
      "execution_count": 13,
      "outputs": [
        {
          "output_type": "stream",
          "name": "stdout",
          "text": [
            "True\n",
            "False\n",
            "False\n"
          ]
        }
      ]
    },
    {
      "cell_type": "markdown",
      "source": [
        "Operator"
      ],
      "metadata": {
        "id": "O2TdLGe6e56Z"
      }
    },
    {
      "cell_type": "code",
      "source": [
        "x = 5\n",
        "y = 3\n",
        "\n",
        "print(x == y)\n",
        "\n",
        "# returns False because 5 is not equal to 3"
      ],
      "metadata": {
        "colab": {
          "base_uri": "https://localhost:8080/"
        },
        "id": "Dl3hWklhfApJ",
        "outputId": "6459bcdd-a31c-4dc8-d163-5d10f1a93ce7"
      },
      "execution_count": 14,
      "outputs": [
        {
          "output_type": "stream",
          "name": "stdout",
          "text": [
            "False\n"
          ]
        }
      ]
    },
    {
      "cell_type": "code",
      "source": [
        "x = 5\n",
        "y = 3\n",
        "\n",
        "print(x != y)\n",
        "\n",
        "# returns True because 5 is not equal to 3"
      ],
      "metadata": {
        "colab": {
          "base_uri": "https://localhost:8080/"
        },
        "id": "GPZEn3GtfUEO",
        "outputId": "57adb173-2a65-4b67-c9f4-8d54613a4bd3"
      },
      "execution_count": 15,
      "outputs": [
        {
          "output_type": "stream",
          "name": "stdout",
          "text": [
            "True\n"
          ]
        }
      ]
    },
    {
      "cell_type": "markdown",
      "source": [
        "Logical Operators"
      ],
      "metadata": {
        "id": "H_reqGYPfmB1"
      }
    },
    {
      "cell_type": "markdown",
      "source": [
        "AND operator"
      ],
      "metadata": {
        "id": "M8SoDNbzfuwV"
      }
    },
    {
      "cell_type": "code",
      "source": [
        "x = 5\n",
        "\n",
        "print(x > 3 and x < 10)\n",
        "\n",
        "# returns True because 5 is greater than 3 AND 5 is less than 10"
      ],
      "metadata": {
        "colab": {
          "base_uri": "https://localhost:8080/"
        },
        "id": "Lv3svGRqfiD1",
        "outputId": "46aa90e2-e157-4ff1-fbf3-701d87083454"
      },
      "execution_count": 17,
      "outputs": [
        {
          "output_type": "stream",
          "name": "stdout",
          "text": [
            "True\n"
          ]
        }
      ]
    },
    {
      "cell_type": "markdown",
      "source": [
        "OR Operator"
      ],
      "metadata": {
        "id": "s2ffyS4Tf0Yl"
      }
    },
    {
      "cell_type": "code",
      "source": [
        "x = 5\n",
        "\n",
        "print(x > 3 or x < 4)\n",
        "\n",
        "# returns True because one of the conditions are true (5 is greater than 3, but 5 is not less than 4)"
      ],
      "metadata": {
        "colab": {
          "base_uri": "https://localhost:8080/"
        },
        "id": "y76lWLQ1fbnt",
        "outputId": "4eb59966-a00a-4005-c37c-e8539c46a687"
      },
      "execution_count": 16,
      "outputs": [
        {
          "output_type": "stream",
          "name": "stdout",
          "text": [
            "True\n"
          ]
        }
      ]
    },
    {
      "cell_type": "markdown",
      "source": [
        "NOT Operator"
      ],
      "metadata": {
        "id": "EggpALYuf_FE"
      }
    },
    {
      "cell_type": "code",
      "source": [
        "x = 5\n",
        "\n",
        "print(not(x > 3 and x < 10))\n",
        "\n",
        "# returns False because not is used to reverse the result\n"
      ],
      "metadata": {
        "colab": {
          "base_uri": "https://localhost:8080/"
        },
        "id": "YLWRJfhrgCu1",
        "outputId": "3fcb75cc-d9eb-426f-fee6-580099f3ae13"
      },
      "execution_count": 18,
      "outputs": [
        {
          "output_type": "stream",
          "name": "stdout",
          "text": [
            "False\n"
          ]
        }
      ]
    }
  ]
}