{
  "nbformat": 4,
  "nbformat_minor": 0,
  "metadata": {
    "colab": {
      "provenance": []
    },
    "kernelspec": {
      "name": "python3",
      "display_name": "Python 3"
    },
    "language_info": {
      "name": "python"
    }
  },
  "cells": [
    {
      "cell_type": "markdown",
      "source": [
        "**Breath First Search Algorithm**"
      ],
      "metadata": {
        "id": "tdol-6HAty2c"
      }
    },
    {
      "cell_type": "code",
      "source": [
        "graph = {\n",
        "  '5' : ['3','7'],\n",
        "  '3' : ['2', '4'],\n",
        "  '7' : ['8'],\n",
        "  '2' : [],\n",
        "  '4' : ['8'],\n",
        "  '8' : []\n",
        "}\n",
        "\n",
        "visited = [] # List for visited nodes.\n",
        "queue = []     #Initialize a queue\n",
        "\n",
        "def bfs(visited, graph, node): #function for BFS\n",
        "  visited.append(node)\n",
        "  queue.append(node)\n",
        "\n",
        "  while queue:          # Creating loop to visit each node\n",
        "    m = queue.pop(0) \n",
        "    print (m, end = \" \") \n",
        "\n",
        "    for neighbour in graph[m]:\n",
        "      if neighbour not in visited:\n",
        "        visited.append(neighbour)\n",
        "        queue.append(neighbour)\n",
        "\n",
        "# Driver Code\n",
        "print(\"Following is the Breadth-First Search\")\n",
        "bfs(visited, graph, '5')    # function calling"
      ],
      "metadata": {
        "colab": {
          "base_uri": "https://localhost:8080/"
        },
        "id": "hhRJ6xHdt9kr",
        "outputId": "f030ebdf-0d7f-4cfc-94da-49c55e25825f"
      },
      "execution_count": null,
      "outputs": [
        {
          "output_type": "stream",
          "name": "stdout",
          "text": [
            "Following is the Breadth-First Search\n",
            "5 3 7 2 4 8 "
          ]
        }
      ]
    },
    {
      "cell_type": "markdown",
      "source": [
        "**Depth First search Algorithm**"
      ],
      "metadata": {
        "id": "x5A9-5-_uEq0"
      }
    },
    {
      "cell_type": "code",
      "source": [
        "# Using a Python dictionary to act as an adjacency list\n",
        "graph = {\n",
        "  '5' : ['3','7'],\n",
        "  '3' : ['2', '4'],\n",
        "  '7' : ['8'],\n",
        "  '2' : [],\n",
        "  '4' : ['8'],\n",
        "  '8' : []\n",
        "}\n",
        "\n",
        "visited = set() # Set to keep track of visited nodes of graph.\n",
        "\n",
        "def dfs(visited, graph, node):  #function for dfs \n",
        "    if node not in visited:\n",
        "        print (node)\n",
        "        visited.add(node)\n",
        "        for neighbour in graph[node]:\n",
        "            dfs(visited, graph, neighbour)\n",
        "\n",
        "# Driver Code\n",
        "print(\"Following is the Depth-First Search\")\n",
        "dfs(visited, graph, '5')"
      ],
      "metadata": {
        "colab": {
          "base_uri": "https://localhost:8080/"
        },
        "id": "HafK0vd3uMwT",
        "outputId": "a763161d-37b4-4fac-f33e-4704b2c21988"
      },
      "execution_count": null,
      "outputs": [
        {
          "output_type": "stream",
          "name": "stdout",
          "text": [
            "Following is the Depth-First Search\n",
            "5\n",
            "3\n",
            "2\n",
            "4\n",
            "8\n",
            "7\n"
          ]
        }
      ]
    },
    {
      "cell_type": "markdown",
      "source": [
        "**Greedy** **Algorithm**"
      ],
      "metadata": {
        "id": "yZUvZYjM2B7p"
      }
    },
    {
      "cell_type": "code",
      "source": [
        "\n",
        "# A Node class for GBFS Pathfinding\n",
        "class Node:\n",
        "    def __init__(self, v, weight):\n",
        "        self.v=v\n",
        "        self.weight=weight\n",
        "\n",
        "# pathNode class will help to store\n",
        "# the path from src to dest.\n",
        "class pathNode:\n",
        "    def __init__(self, node, parent):\n",
        "        self.node=node\n",
        "        self.parent=parent\n",
        "\n",
        "# Function to add edge in the graph.\n",
        "def addEdge(u, v, weight):\n",
        "    # Add edge u -> v with weight weight.\n",
        "    adj[u].append(Node(v, weight))\n",
        "\n",
        "\n",
        "# Declaring the adjacency list\n",
        "adj = []\n",
        "# Greedy best first search algorithm function\n",
        "def GBFS(h, V, src, dest):\n",
        "    \"\"\" \n",
        "    This function returns a list of \n",
        "    integers that denote the shortest\n",
        "    path found using the GBFS algorithm.\n",
        "    If no path exists from src to dest, we will return an empty list.\n",
        "    \"\"\"\n",
        "    # Initializing openList and closeList.\n",
        "    openList = []\n",
        "    closeList = []\n",
        "\n",
        "    # Inserting src in openList.\n",
        "    openList.append(pathNode(src, None))\n",
        "\n",
        "    # Iterating while the openList \n",
        "    # is not empty.\n",
        "    while (openList):\n",
        "\n",
        "        currentNode = openList[0]\n",
        "        currentIndex = 0\n",
        "        # Finding the node with the least 'h' value\n",
        "        for i in range(len(openList)):\n",
        "            if(h[openList[i].node] < h[currentNode.node]):\n",
        "                currentNode = openList[i]\n",
        "                currentIndex = i\n",
        "\n",
        "        # Removing the currentNode from \n",
        "        # the openList and adding it in \n",
        "        # the closeList.\n",
        "        openList.pop(currentIndex)\n",
        "        closeList.append(currentNode)\n",
        "        \n",
        "        # If we have reached the destination node.\n",
        "        if(currentNode.node == dest):\n",
        "            # Initializing the 'path' list. \n",
        "            path = []\n",
        "            cur = currentNode\n",
        "\n",
        "            # Adding all the nodes in the \n",
        "            # path list through which we have\n",
        "            # reached to dest.\n",
        "            while(cur != None):\n",
        "                path.append(cur.node)\n",
        "                cur = cur.parent\n",
        "            \n",
        "\n",
        "            # Reversing the path, because\n",
        "            # currently it denotes path\n",
        "            # from dest to src.\n",
        "            path.reverse()\n",
        "            return path\n",
        "        \n",
        "\n",
        "        # Iterating over adjacents of 'currentNode'\n",
        "        # and adding them to openList if \n",
        "        # they are neither in openList or closeList.\n",
        "        for node in adj[currentNode.node]:\n",
        "            for x in openList:\n",
        "                if(x.node == node.v):\n",
        "                    continue\n",
        "            \n",
        "            for x in closeList:\n",
        "                if(x.node == node.v):\n",
        "                    continue\n",
        "            \n",
        "            openList.append(pathNode(node.v, currentNode))\n",
        "\n",
        "    return []\n",
        "\n",
        "# Driver Code\n",
        "\"\"\" Making the following graph\n",
        "             src = 0\n",
        "            / | \\\n",
        "           /  |  \\\n",
        "          1   2   3\n",
        "         /\\   |   /\\\n",
        "        /  \\  |  /  \\\n",
        "        4   5 6 7    8\n",
        "               /\n",
        "              /\n",
        "            dest = 9\n",
        "\"\"\"\n",
        "# The total number of vertices.\n",
        "V = 10\n",
        "## Initializing the adjacency list\n",
        "for i in range(V):\n",
        "    adj.append([])\n",
        "\n",
        "addEdge(0, 1, 2)\n",
        "addEdge(0, 2, 1)\n",
        "addEdge(0, 3, 10)\n",
        "addEdge(1, 4, 3)\n",
        "addEdge(1, 5, 2)\n",
        "addEdge(2, 6, 9)\n",
        "addEdge(3, 7, 5)\n",
        "addEdge(3, 8, 2)\n",
        "addEdge(7, 9, 5)\n",
        "\n",
        "# Defining the heuristic values for each node.\n",
        "h = [20, 22, 21, 10, 25, 24, 30, 5, 12, 0]\n",
        "path = GBFS(h, V, 0, 9)\n",
        "for i in range(len(path) - 1):\n",
        "    print(path[i], end = \" -> \")\n",
        "\n",
        "print(path[(len(path)-1)])\n"
      ],
      "metadata": {
        "colab": {
          "base_uri": "https://localhost:8080/"
        },
        "id": "PPxaSLMG2Gwh",
        "outputId": "33aa0ddf-dafc-4aeb-8441-298e3fc3b8e1"
      },
      "execution_count": 1,
      "outputs": [
        {
          "output_type": "stream",
          "name": "stdout",
          "text": [
            "0 -> 3 -> 7 -> 9\n"
          ]
        }
      ]
    }
  ]
}