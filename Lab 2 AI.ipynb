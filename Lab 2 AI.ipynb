{
 "cells": [
  {
   "cell_type": "markdown",
   "metadata": {
    "id": "kWkCRdouSv9X"
   },
   "source": [
    "**Conditional Statements**\n"
   ]
  },
  {
   "cell_type": "code",
   "execution_count": 1,
   "metadata": {},
   "outputs": [
    {
     "name": "stdout",
     "output_type": "stream",
     "text": [
      "5 is a positive number.\n",
      "This statement is true.\n"
     ]
    }
   ],
   "source": [
    "num = 5\n",
    "if num > 0:\n",
    "    print(num, \"is a positive number.\")\n",
    "print(\"This statement is true.\")"
   ]
  },
  {
   "cell_type": "code",
   "execution_count": 2,
   "metadata": {
    "colab": {
     "base_uri": "https://localhost:8080/",
     "height": 130
    },
    "id": "6yeSkqYBS12x",
    "outputId": "17869c92-5f6e-449c-a46e-397477cc43d9"
   },
   "outputs": [
    {
     "name": "stdout",
     "output_type": "stream",
     "text": [
      "b is greater than a\n"
     ]
    }
   ],
   "source": [
    "a = 33\n",
    "b = 200\n",
    "\n",
    "if b > a:\n",
    "  print(\"b is greater than a\")\n"
   ]
  },
  {
   "cell_type": "code",
   "execution_count": 3,
   "metadata": {},
   "outputs": [
    {
     "name": "stdout",
     "output_type": "stream",
     "text": [
      "a and b are equal\n"
     ]
    }
   ],
   "source": [
    "\n",
    "a = 33\n",
    "b = 33\n",
    "if b > a:\n",
    "  print(\"b is greater than a\")\n",
    "elif a == b:\n",
    "  print(\"a and b are equal\")"
   ]
  },
  {
   "cell_type": "code",
   "execution_count": 4,
   "metadata": {},
   "outputs": [
    {
     "name": "stdout",
     "output_type": "stream",
     "text": [
      "a is greater than b\n"
     ]
    }
   ],
   "source": [
    "a = 200\n",
    "b = 33\n",
    "if b > a:\n",
    "  print(\"b is greater than a\")\n",
    "elif a == b:\n",
    "  print(\"a and b are equal\")\n",
    "else:\n",
    "  print(\"a is greater than b\")\n"
   ]
  },
  {
   "cell_type": "code",
   "execution_count": 5,
   "metadata": {},
   "outputs": [
    {
     "name": "stdout",
     "output_type": "stream",
     "text": [
      "Positive number\n"
     ]
    }
   ],
   "source": [
    "num = 8\n",
    "if num >= 0:\n",
    "    if num == 0:\n",
    "        print(\"zero\")\n",
    "    else:\n",
    "        print(\"Positive number\")\n",
    "else:\n",
    "    print(\"Negative number\")\n"
   ]
  },
  {
   "cell_type": "code",
   "execution_count": 6,
   "metadata": {},
   "outputs": [
    {
     "name": "stdout",
     "output_type": "stream",
     "text": [
      "Age of the dog: 3\n",
      "\n",
      "Corresponds to  27 human years!\n"
     ]
    }
   ],
   "source": [
    "age = int(input(\"Age of the dog: \"))\n",
    "print()\n",
    "if age < 0:\n",
    "    print(\"This cannot be true!\")\n",
    "elif age == 0:\n",
    "    print(\"This corresponds to 0 human years!\")\n",
    "elif age == 1:\n",
    "    print(\"Roughly 14 years!\")\n",
    "elif age == 2:\n",
    "    print(\"Approximately 22 years!\")\n",
    "else:\n",
    "    human = 22 + (age -2) * 5\n",
    "    print(\"Corresponds to  \" + str(human) + \" human years!\")"
   ]
  },
  {
   "cell_type": "code",
   "execution_count": 7,
   "metadata": {},
   "outputs": [
    {
     "name": "stdout",
     "output_type": "stream",
     "text": [
      "1st Number: 1\n",
      "2nd Number: 3\n",
      "3rd Number: 5\n",
      "The maximal value is: 5.0\n"
     ]
    }
   ],
   "source": [
    "x = float(input(\"1st Number: \"))\n",
    "y = float(input(\"2nd Number: \"))\n",
    "z = float(input(\"3rd Number: \"))\n",
    "\n",
    "if x > y and x > z:\n",
    "    maximum = x\n",
    "elif y > x and y > z:\n",
    "    maximum = y\n",
    "else:\n",
    "    maximum = z\n",
    "\n",
    "print(\"The maximal value is: \" + str(maximum))"
   ]
  },
  {
   "cell_type": "code",
   "execution_count": null,
   "metadata": {},
   "outputs": [],
   "source": [
    "height = float(input(\"What is your height? \"))\n",
    "weight = float(input(\"What is your weight? \"))\n",
    "\n",
    "bmi = weight / height ** 2\n",
    "print(bmi)\n",
    "if bmi < 15:\n",
    "    print(\"Very severely underweight\")\n",
    "elif bmi < 16:\n",
    "    print(\"Severely underweight\")\n",
    "elif bmi < 18.5:\n",
    "    print(\"Underweight\")\n",
    "elif bmi < 25:\n",
    "    print(\"Normal (healthy weight)\")\n",
    "elif bmi < 30:\n",
    "    print(\"Overweight\")\n",
    "elif bmi < 35:\n",
    "    print(\"Obese Class I (Moderately obese)\")\n",
    "elif bmi < 40:\n",
    "    print(\"Obese Class II (Severely obese)\")\n",
    "else:\n",
    "    print(\"Obese Class III (Very severely obese)\")"
   ]
  },
  {
   "cell_type": "markdown",
   "metadata": {
    "id": "hmIk6Tg4kz9N"
   },
   "source": [
    "**Loops in Python**"
   ]
  },
  {
   "cell_type": "code",
   "execution_count": null,
   "metadata": {
    "id": "sQ1qQpS-Xi0A"
   },
   "outputs": [],
   "source": [
    "numbers = [4, 2, 6, 7, 3, 5, 8, 10, 6, 1, 9, 2]  \n",
    "  \n",
    "# variable to store the square of the number  \n",
    "square = 0  \n",
    "  \n",
    "# Creating an empty list  \n",
    "squares = []  \n",
    "  \n",
    "# Creating a for loop  \n",
    "for value in numbers:  \n",
    "    square = value ** 2  \n",
    "    squares.append(square)  \n",
    "print(\"The list of squares is\", squares)  \n"
   ]
  },
  {
   "cell_type": "code",
   "execution_count": null,
   "metadata": {
    "id": "rR2IHvLDhnEz"
   },
   "outputs": [],
   "source": [
    "string = \"Python Loop\"  \n",
    "  \n",
    "# Initiating a loop  \n",
    "for s in  string:  \n",
    "    # giving a condition in if block  \n",
    "    if s == \"o\":  \n",
    "        print(\"If block\")  \n",
    "    # if condition is not satisfied then else block will be executed  \n",
    "    else:  \n",
    "        print(s)  \n"
   ]
  },
  {
   "cell_type": "code",
   "execution_count": null,
   "metadata": {
    "id": "_lpgvUethnIR"
   },
   "outputs": [],
   "source": [
    "tuple_ = (\"Python\", \"Loops\", \"Sequence\", \"Condition\", \"Range\")  \n",
    "  \n",
    "# iterating over tuple_ using range() function  \n",
    "for iterator in range(len(tuple_)):  \n",
    "    print(tuple_[iterator].upper()) "
   ]
  },
  {
   "cell_type": "code",
   "execution_count": null,
   "metadata": {
    "id": "8ff2NNu1hnMo"
   },
   "outputs": [],
   "source": [
    "\n",
    "counter = 0  \n",
    "# Initiating the loop  \n",
    "while counter < 10: # giving the condition  \n",
    "    counter = counter + 3  \n",
    "    print(\"Python Loops\")"
   ]
  },
  {
   "cell_type": "code",
   "execution_count": null,
   "metadata": {
    "id": "hZSjPKWYhnPb"
   },
   "outputs": [],
   "source": [
    "counter = 0  \n",
    "  \n",
    "# Iterating through the while loop  \n",
    "while (counter < 10):      \n",
    "    counter = counter + 3  \n",
    "    print(\"Python Loops\") # Executed untile condition is met  \n",
    "# Once the condition of while loop gives False this statement will be executed  \n",
    "else:  \n",
    "    print(\"Code block inside the else statement\")  \n"
   ]
  },
  {
   "cell_type": "code",
   "execution_count": null,
   "metadata": {
    "id": "wF-OqmsVhnS6"
   },
   "outputs": [],
   "source": [
    "for string in \"Python Loops\":  \n",
    "    if string == \"o\" or string == \"p\" or string == \"t\":  \n",
    "         continue  \n",
    "    print('Current Letter:', string)  \n"
   ]
  },
  {
   "cell_type": "code",
   "execution_count": null,
   "metadata": {
    "id": "toYyI8dbhnVu"
   },
   "outputs": [],
   "source": [
    "for string in \"Python Loops\":  \n",
    "    if string == 'L':  \n",
    "         break  \n",
    "    print('Current Letter: ', string)  \n"
   ]
  },
  {
   "cell_type": "code",
   "execution_count": null,
   "metadata": {
    "id": "HsmTCDFqhnYb"
   },
   "outputs": [],
   "source": []
  },
  {
   "cell_type": "code",
   "execution_count": null,
   "metadata": {
    "id": "dgNu0u47hnbS"
   },
   "outputs": [],
   "source": []
  },
  {
   "cell_type": "code",
   "execution_count": null,
   "metadata": {
    "id": "AtloT0y-hneF"
   },
   "outputs": [],
   "source": []
  }
 ],
 "metadata": {
  "colab": {
   "provenance": []
  },
  "kernelspec": {
   "display_name": "Python 3",
   "language": "python",
   "name": "python3"
  },
  "language_info": {
   "codemirror_mode": {
    "name": "ipython",
    "version": 3
   },
   "file_extension": ".py",
   "mimetype": "text/x-python",
   "name": "python",
   "nbconvert_exporter": "python",
   "pygments_lexer": "ipython3",
   "version": "3.7.6"
  }
 },
 "nbformat": 4,
 "nbformat_minor": 1
}
