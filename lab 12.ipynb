{
 "cells": [
  {
   "cell_type": "code",
   "execution_count": 1,
   "id": "addb9b09",
   "metadata": {},
   "outputs": [],
   "source": [
    "import numpy as np\n",
    "from sklearn.decomposition import PCA\n",
    "from PIL import Image"
   ]
  },
  {
   "cell_type": "code",
   "execution_count": 14,
   "id": "34780f7d",
   "metadata": {},
   "outputs": [],
   "source": [
    "image_path = 'C:/Users/12-10-2021/Downloads/passportsize.jpg'  # Replace with the actual path to your image\n",
    "image = Image.open(image_path)\n",
    "image_array = np.array(image)"
   ]
  },
  {
   "cell_type": "code",
   "execution_count": 15,
   "id": "f71b8204",
   "metadata": {},
   "outputs": [],
   "source": [
    "# If the image is in RGBA format (4 channels), convert it to RGB (3 channels)\n",
    "if image_array.shape[2] == 4:\n",
    "    image_array = image_array[:, :, :3]\n",
    "\n",
    "# Reshape the image array to a 2D matrix for PCA\n",
    "height, width, channels = image_array.shape\n",
    "image_matrix = image_array.reshape(height * width, channels)\n"
   ]
  },
  {
   "cell_type": "code",
   "execution_count": 16,
   "id": "6e0478ee",
   "metadata": {},
   "outputs": [],
   "source": [
    "# Define the number of principal components to keep (adjust according to the image shape)\n",
    "num_components = min(image_matrix.shape[0], image_matrix.shape[1]) - 1\n",
    "\n",
    "# Create a PCA object and fit it to the image matrix\n",
    "pca = PCA(n_components=num_components)\n",
    "image_pca = pca.fit_transform(image_matrix)\n"
   ]
  },
  {
   "cell_type": "code",
   "execution_count": 17,
   "id": "e6ac38c4",
   "metadata": {},
   "outputs": [],
   "source": [
    "image_reconstructed = pca.inverse_transform(image_pca)\n",
    "\n",
    "# Reshape the reconstructed image matrix to the original shape\n",
    "image_reconstructed = image_reconstructed.reshape(height, width, channels)\n",
    "\n",
    "# Convert the image matrix back to an image object\n",
    "enhanced_image = Image.fromarray(image_reconstructed.astype(np.uint8))\n"
   ]
  },
  {
   "cell_type": "code",
   "execution_count": 18,
   "id": "aa1d12be",
   "metadata": {},
   "outputs": [],
   "source": [
    "# Save the enhanced image\n",
    "enhanced_image_path = 'path_to_save_enhanced_image.jpg'  # Replace with the desired path to save the enhanced image\n",
    "enhanced_image.save(enhanced_image_path)\n",
    "\n",
    "# Display the enhanced image\n",
    "enhanced_image.show()\n"
   ]
  },
  {
   "cell_type": "code",
   "execution_count": 19,
   "id": "c5745e11",
   "metadata": {},
   "outputs": [],
   "source": [
    "from PIL import Image, ImageFilter\n",
    "#Read image\n",
    "im = Image.open( 'C:/Users/12-10-2021/Downloads/passportsize.jpg' )\n",
    "#Display image\n",
    "im.show()\n",
    "from PIL import ImageEnhance\n",
    "enh = ImageEnhance.Contrast(im)\n",
    "enh.enhance(1.8).show(\"30% more contrast\")\n"
   ]
  },
  {
   "cell_type": "code",
   "execution_count": null,
   "id": "e6a58385",
   "metadata": {},
   "outputs": [],
   "source": []
  }
 ],
 "metadata": {
  "kernelspec": {
   "display_name": "Python 3 (ipykernel)",
   "language": "python",
   "name": "python3"
  },
  "language_info": {
   "codemirror_mode": {
    "name": "ipython",
    "version": 3
   },
   "file_extension": ".py",
   "mimetype": "text/x-python",
   "name": "python",
   "nbconvert_exporter": "python",
   "pygments_lexer": "ipython3",
   "version": "3.9.13"
  }
 },
 "nbformat": 4,
 "nbformat_minor": 5
}
