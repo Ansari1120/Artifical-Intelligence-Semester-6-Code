{
 "cells": [
  {
   "cell_type": "code",
   "execution_count": 1,
   "id": "d09cfbd7",
   "metadata": {},
   "outputs": [
    {
     "name": "stdout",
     "output_type": "stream",
     "text": [
      "7\n",
      "6\n"
     ]
    }
   ],
   "source": [
    "#find the maximum of two numbers\n",
    "\n",
    "def max_of_two(x,y):\n",
    "    if x > y:\n",
    "        return x\n",
    "    return y\n",
    "def max_of_three(x,y,z):\n",
    "    return max_of_two(x,max_of_two(y,z))\n",
    "\n",
    "print(max_of_two(2,7))\n",
    "print(max_of_three(-4,2,6))"
   ]
  },
  {
   "cell_type": "code",
   "execution_count": 2,
   "id": "684e8472",
   "metadata": {},
   "outputs": [
    {
     "ename": "SyntaxError",
     "evalue": "invalid syntax (3465615144.py, line 5)",
     "output_type": "error",
     "traceback": [
      "\u001b[1;36m  File \u001b[1;32m\"C:\\Users\\12-10-2021\\AppData\\Local\\Temp\\ipykernel_12956\\3465615144.py\"\u001b[1;36m, line \u001b[1;32m5\u001b[0m\n\u001b[1;33m    reurn n * factorial (n-1)\u001b[0m\n\u001b[1;37m          ^\u001b[0m\n\u001b[1;31mSyntaxError\u001b[0m\u001b[1;31m:\u001b[0m invalid syntax\n"
     ]
    }
   ],
   "source": [
    "def factorial(n):\n",
    "    if n == 0:\n",
    "        return 1\n",
    "    else:\n",
    "        reurn n * factorial (n-1)\n",
    "n=int(input('Enter a number:'))"
   ]
  },
  {
   "cell_type": "code",
   "execution_count": null,
   "id": "42b8d6a4",
   "metadata": {},
   "outputs": [],
   "source": [
    "def sum(numbers):\n",
    "    total = 0\n",
    "    for x in numbers:\n",
    "        total += x\n",
    "    return total \n",
    "print(sum((8,2,3,0,7)))"
   ]
  },
  {
   "cell_type": "code",
   "execution_count": null,
   "id": "ab8de603",
   "metadata": {},
   "outputs": [],
   "source": [
    "def string_reverse(str1):\n",
    "    restr1 = ''\n",
    "    index = len(str1)\n",
    "    while index > 0:\n",
    "        restr1 +=str1[index - 1]\n",
    "        index = index - 1\n",
    "    return restr1\n",
    "print(string_reverse('abcdefghij'))"
   ]
  },
  {
   "cell_type": "code",
   "execution_count": null,
   "id": "9fe24f3d",
   "metadata": {},
   "outputs": [],
   "source": [
    "def test_range(n):\n",
    "    if n in range(3,9):\n",
    "        print('%s is in the range '%str(n))\n",
    "    else:\n",
    "        print('the number is outside given range')\n",
    "test_range(5)"
   ]
  },
  {
   "cell_type": "code",
   "execution_count": null,
   "id": "d94bdd31",
   "metadata": {},
   "outputs": [],
   "source": [
    "def test(a):\n",
    "    def add(b):\n",
    "            nonlocal a\n",
    "            a += 1\n",
    "            return a+b\n",
    "    return add\n",
    "func = test(4)\n",
    "print (func(4))"
   ]
  },
  {
   "cell_type": "code",
   "execution_count": null,
   "id": "f7903ff3",
   "metadata": {},
   "outputs": [],
   "source": [
    "class employee:\n",
    "    def __init__(self,a,b,c):\n",
    "        self .id=a\n",
    "        self .name=b\n",
    "        self .salary=c\n",
    "    def display(self):\n",
    "        print(\"id is \",self.id)\n",
    "        print(\"name is \",self.name)\n",
    "        print(\"salary is \",self.salary)\n",
    "    a=employee(1402,\"ahmed\",1000000000000)\n",
    "    a.display()"
   ]
  },
  {
   "cell_type": "code",
   "execution_count": null,
   "id": "a61c931a",
   "metadata": {},
   "outputs": [],
   "source": [
    "class fruit:\n",
    "    def __init__(self,name,color):\n",
    "        self.name= name\n",
    "        self.color=color\n",
    "    def display(self):\n",
    "        print(\"Fruit is\",self.name,\" and the color is\",self.color)\n",
    "obj=fruit(\"apple\",\"red\")\n",
    "#del obj.name\n",
    "obj.display()\n"
   ]
  },
  {
   "cell_type": "code",
   "execution_count": null,
   "id": "53701b9f",
   "metadata": {},
   "outputs": [],
   "source": [
    "class car:\n",
    "    def __init__(self,brand,model,color):\n",
    "        self.brand=brand\n",
    "        self.model=model\n",
    "        self.color=color\n",
    "    def display(self):\n",
    "        print(\"Car is \",self.brand,\"model no is \",self.model,'color',self.color)\n",
    "a=input()\n",
    "b=input()\n",
    "c=input()\n",
    "obj=car(a,b,c)\n",
    "obj.display()"
   ]
  },
  {
   "cell_type": "code",
   "execution_count": null,
   "id": "ca28ba3e",
   "metadata": {},
   "outputs": [],
   "source": [
    "# Reversing a tuple using slicing technique\n",
    "# New tuple is created\n",
    "def Reverse(tuples):\n",
    "\tnew_tup = tuples[::+1]\n",
    "\treturn new_tup\n",
    "\t\n",
    "# Driver Code\n",
    "tuples = (1,2,5,6,4,97,34,5,6,7,6,3)\n",
    "print(Reverse(tuples))\n"
   ]
  },
  {
   "cell_type": "code",
   "execution_count": null,
   "id": "371d92df",
   "metadata": {},
   "outputs": [],
   "source": [
    "#sorts list in acending order \n",
    "prime_numbers = [4,7,2,1,9,0]\n",
    "\n",
    "prime_numbers.sort()\n",
    "\n",
    "print(prime_numbers)\n",
    "\n"
   ]
  },
  {
   "cell_type": "code",
   "execution_count": null,
   "id": "89c4d983",
   "metadata": {},
   "outputs": [],
   "source": [
    "#sorts list in decending order \n",
    "prime_numbers = [4,7,2,1,9,0]\n",
    "\n",
    "prime_numbers.sort(reverse=True)\n",
    "\n",
    "print(prime_numbers)\n"
   ]
  },
  {
   "cell_type": "code",
   "execution_count": null,
   "id": "b81ad832",
   "metadata": {},
   "outputs": [],
   "source": [
    "#acending order sorting dictionary\n",
    "Dict = {4: 'Zealux', 2: 'Axis', 3: 'Jax' , 1:\"somoa\"}\n",
    "\n",
    " # Sort by key\n",
    "sorts = (sorted(Dict.items()))\n",
    "print(sorts)\n",
    "\n",
    " # Sort by value\n",
    "sorts_item =  dict(sorted(Dict.items(), key=lambda item: item[1]))\n",
    "print(sorts_item)"
   ]
  },
  {
   "cell_type": "code",
   "execution_count": null,
   "id": "702c009d",
   "metadata": {},
   "outputs": [],
   "source": [
    "from collections import OrderedDict\n",
    "\n",
    "#decending order sorting dictionary\n",
    "Dict = {1: 'Zealux', 2: 'Axis', 3: 'Jax' , 4:\"somoa\"}\n",
    "\n",
    "# printing original dictionary\n",
    "print(\"The original dictionary : \" + str(Dict))\n",
    "res =dict(reversed(list(Dict.items())))\n",
    "  \n",
    "# printing reversed order dictionary\n",
    "print(\"The reversed order dictionary : \" + str(res)) "
   ]
  },
  {
   "cell_type": "code",
   "execution_count": null,
   "id": "a841109e",
   "metadata": {},
   "outputs": [],
   "source": [
    "def pypart(n):\n",
    "      \n",
    "    # outer loop to handle number of rows\n",
    "    # n in this case\n",
    "    for i in range(0, n):\n",
    "        # inner loop to handle number of columns\n",
    "        # values changing acc. to outer loop\n",
    "        for j in range(0, i+1):\n",
    "          \n",
    "            # printing stars\n",
    "            print(\"* \",end=\"\")\n",
    "       \n",
    "        # ending line after each row\n",
    "        print(\"\\r\")\n",
    "  \n",
    "n = 5\n",
    "pypart(n)\n"
   ]
  },
  {
   "cell_type": "code",
   "execution_count": 21,
   "id": "fadd8f06",
   "metadata": {},
   "outputs": [
    {
     "name": "stdout",
     "output_type": "stream",
     "text": [
      "        *   \n",
      "       *  *   \n",
      "      *  *  *   \n",
      "     *  *  *  *   \n",
      "*      *  *  *  *  *   \n",
      "*  *  "
     ]
    }
   ],
   "source": [
    "n = 5\n",
    "m = (2 * n) - 2  \n",
    "for i in range(0, n):  \n",
    "    for j in range(0, m):  \n",
    "        print(end=\" \")  \n",
    "    m = m - 1  # decrementing m after each loop  \n",
    "    for j in range(0, i + 1):  \n",
    "        \n",
    "        # printing full Triangle pyramid using stars  \n",
    "        print(\"* \", end=' ')  \n",
    "        \n",
    "    print(\" \") \n",
    "  "
   ]
  },
  {
   "cell_type": "code",
   "execution_count": null,
   "id": "4cff664c",
   "metadata": {},
   "outputs": [],
   "source": []
  },
  {
   "cell_type": "code",
   "execution_count": null,
   "id": "de509fc7",
   "metadata": {},
   "outputs": [],
   "source": []
  }
 ],
 "metadata": {
  "kernelspec": {
   "display_name": "Python 3 (ipykernel)",
   "language": "python",
   "name": "python3"
  },
  "language_info": {
   "codemirror_mode": {
    "name": "ipython",
    "version": 3
   },
   "file_extension": ".py",
   "mimetype": "text/x-python",
   "name": "python",
   "nbconvert_exporter": "python",
   "pygments_lexer": "ipython3",
   "version": "3.9.13"
  }
 },
 "nbformat": 4,
 "nbformat_minor": 5
}
